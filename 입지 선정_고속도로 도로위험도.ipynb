{
 "cells": [
  {
   "cell_type": "code",
   "execution_count": 204,
   "metadata": {
    "ExecuteTime": {
     "end_time": "2021-08-13T03:11:37.119029Z",
     "start_time": "2021-08-13T03:11:29.460353Z"
    },
    "scrolled": false
   },
   "outputs": [
    {
     "name": "stdout",
     "output_type": "stream",
     "text": [
      "http://apis.data.go.kr/B552061/roadDgdgrHighway/getRestRoadDgdgrHighway?ServiceKey=3Oz4fUGTlCSEiTodMe1LLOKQttXMQFdgdqdfipFe552B6BSrHEklMKtedOUdml2%2B45jSF3ZDWVEykeTOZPa86g%3D%3D&frwyNm=상주영천고속도로&frwySctnNm=상주JC-도개IC&vhctyCd=01&type=json&numOfRows=100&pageNo=1\n",
      "http://apis.data.go.kr/B552061/roadDgdgrHighway/getRestRoadDgdgrHighway?ServiceKey=3Oz4fUGTlCSEiTodMe1LLOKQttXMQFdgdqdfipFe552B6BSrHEklMKtedOUdml2%2B45jSF3ZDWVEykeTOZPa86g%3D%3D&frwyNm=상주영천고속도로&frwySctnNm=상주JC-도개IC&vhctyCd=02&type=json&numOfRows=100&pageNo=1\n",
      "http://apis.data.go.kr/B552061/roadDgdgrHighway/getRestRoadDgdgrHighway?ServiceKey=3Oz4fUGTlCSEiTodMe1LLOKQttXMQFdgdqdfipFe552B6BSrHEklMKtedOUdml2%2B45jSF3ZDWVEykeTOZPa86g%3D%3D&frwyNm=상주영천고속도로&frwySctnNm=상주JC-도개IC&vhctyCd=03&type=json&numOfRows=100&pageNo=1\n",
      "http://apis.data.go.kr/B552061/roadDgdgrHighway/getRestRoadDgdgrHighway?ServiceKey=3Oz4fUGTlCSEiTodMe1LLOKQttXMQFdgdqdfipFe552B6BSrHEklMKtedOUdml2%2B45jSF3ZDWVEykeTOZPa86g%3D%3D&frwyNm=상주영천고속도로&frwySctnNm=상주JC-도개IC&vhctyCd=04&type=json&numOfRows=100&pageNo=1\n"
     ]
    }
   ],
   "source": [
    "import requests\n",
    "import pandas as pd\n",
    "\n",
    "    \n",
    "ServiceKey = \"3Oz4fUGTlCSEiTodMe1LLOKQttXMQFdgdqdfipFe552B6BSrHEklMKtedOUdml2%2B45jSF3ZDWVEykeTOZPa86g%3D%3D\"\n",
    "고속도로 = \"상주영천고속도로\"\n",
    "구간 = \"상주JC-도개IC\"\n",
    "url = \"http://apis.data.go.kr/B552061/roadDgdgrHighway/getRestRoadDgdgrHighway?ServiceKey={}&frwyNm={}&frwySctnNm={}&vhctyCd=0\".format(ServiceKey,고속도로,구간)\n",
    "url2 = \"&type=json&numOfRows=100&pageNo=1\"\n",
    "for i in range(1,5):\n",
    "    url_full = url + str(i) + url2\n",
    "    resp = requests.get(url_full)\n",
    "    globals()['df{}'.format(i)] = resp.json()\n",
    "    print(url_full)\n",
    "\n"
   ]
  },
  {
   "cell_type": "code",
   "execution_count": 206,
   "metadata": {
    "ExecuteTime": {
     "end_time": "2021-08-13T03:11:45.756623Z",
     "start_time": "2021-08-13T03:11:45.694752Z"
    },
    "scrolled": false
   },
   "outputs": [
    {
     "data": {
      "text/plain": [
       "0.06833333333333333"
      ]
     },
     "execution_count": 206,
     "metadata": {},
     "output_type": "execute_result"
    }
   ],
   "source": [
    "#1번\n",
    "import pandas as pd\n",
    "\n",
    "\n",
    "df_1 = pd.DataFrame(df1['items'][\"item\"])\n",
    "df_1 = df_1.rename(columns = {'line_string' : \"구간 좌표\",\n",
    "                         'anals_value' : '도로위험도',\n",
    "                          'anals_grd' : \"도로위험도지수\"})\n",
    "\n",
    "\n",
    "df_2 = df_1[\"구간 좌표\"].str.split(',',expand= True)\n",
    "df_2 = df_2.rename(columns = {0 : \"구간1\"\n",
    "                      , 1 : \"구간2\"})\n",
    "\n",
    "# print(df_2.dtypes)\n",
    "\n",
    "# df_2[\"구간1\"] = df_2[\"구간1\"].str.replace(pat=r'[^\\w]', repl=r'', regex=True)\n",
    "# df_2[\"구간2\"] = df_2[\"구간2\"].str.replace(pat=r'[^\\w]', repl=r'', regex=True)\n",
    "df_2[\"구간1\"] = df_2[\"구간1\"].str.replace(\"(\",'')\n",
    "df_2[\"구간2\"] = df_2[\"구간2\"].str.replace(\")\",'')\n",
    "pd.options.display.float_format = '{:.4f}'.format\n",
    "\n",
    "df_3 = df_2[\"구간1\"].str.split(\" \",expand=True)\n",
    "df_4 = df_2[\"구간2\"].str.split(\" \",expand=True)\n",
    "df_3 = df_3.rename(columns = {0 : \"구간1\"\n",
    "                      , 1 : \"구간2\"})\n",
    "df_3\n",
    "df_4 = df_4.rename(columns = {1 : \"구간3\"\n",
    "                      , 2 : \"구간4\"})\n",
    "df_4\n",
    "df_5= pd.concat([df_3,df_4],axis=1)\n",
    "df_5\n",
    "df_5 = df_5.drop([0],axis=1)\n",
    "df_5\n",
    "# df_5[\"구간1\"] = df_5[\"구간1\"].astype(float)\n",
    "# df_5[\"구간2\"] = df_5[\"구간2\"].astype(float)\n",
    "# df_5[\"구간3\"] = df_5[\"구간3\"].astype(float)\n",
    "# df_5[\"구간4\"] = df_5[\"구간4\"].astype(float)\n",
    "# df_5[\"구간1\"].round(4)\n",
    "# df_5[\"구간2\"].round(4)\n",
    "# df_5[\"구간3\"].round(4)\n",
    "# df_5[\"구간4\"].round(4)\n",
    "\n",
    "\n",
    "df_6 = pd.concat([df_1,df_5],axis=1)\n",
    "\n",
    "df_6\n",
    "df_6 = df_6.drop([\"구간 좌표\"],axis=1)\n",
    "df_6 = df_6.rename(columns = {'구간1' : \"경도1\",\n",
    "                         '구간2' : '위도1',\n",
    "                          '구간3' : \"경도2\",\n",
    "                                '구간4' : \"위도2\"})\n",
    "\n",
    "df_6[\"도로위험도지수\"] = df_6[\"도로위험도지수\"].astype(float)\n",
    "df_6[\"도로위험도\"] = df_6[\"도로위험도\"].astype(float)\n",
    "df_6 = df_6.drop(\"index\",axis=1)\n",
    "df_6[\"도로위험도\"].sort_values(ascending = False)\n",
    "df_6 = df_6.sort_values(by= \"도로위험도\", ascending = False)\n",
    "df_7 = df_6.reset_index()\n",
    "df_7\n",
    "df_7= df_7.drop(\"index\", axis=1)\n",
    "df_7\n",
    "df_7[\"도로위험도\"].mean()"
   ]
  },
  {
   "cell_type": "code",
   "execution_count": 55,
   "metadata": {},
   "outputs": [
    {
     "name": "stdout",
     "output_type": "stream",
     "text": [
      "    index                                              구간 좌표  도로위험도 도로위험도지수\n",
      "0       1  (127.41701587985258 37.240619401847745, 127.41...   0.17      01\n",
      "1       2  (127.37556137528586 37.240652044406865, 127.37...   0.25      01\n",
      "2       3  (127.36655632907672 37.241041086671288, 127.36...   0.34      01\n",
      "3       4  (127.37105748889918 37.240834783146731, 127.37...   0.34      01\n",
      "4       5  (127.39689506878324 37.23977987900021, 127.399...   0.34      01\n",
      "5       6  (127.4148168430422 37.240990064419464, 127.417...   0.34      01\n",
      "6       7  (127.38006426101536 37.240452019549579, 127.38...   2.91      01\n",
      "7       8  (127.40811284667711 37.240309340942794, 127.41...   6.17      03\n",
      "8       9  (127.41897177178802 37.239728053505246, 127.42...   8.93      03\n",
      "9      10  (127.41257661842191 37.240822820322109, 127.41...  26.87      04\n",
      "10     11  (127.38231718763491 37.240376650511521, 127.38...   0.00      01\n",
      "11     12  (127.41034649215456 37.240556199656019, 127.41...   0.00      01\n",
      "12     13  (127.38456749327101 37.240264933686852, 127.38...   0.00      01\n",
      "13     14  (127.40364370433497 37.23982642032545, 127.405...   0.00      01\n",
      "14     15  (127.39914614558543 37.239675127501258, 127.40...   0.00      01\n",
      "15     16  (127.39357578771907 37.239912069834467, 127.39...   0.00      01\n",
      "16     17  (127.37781276394833 37.240551225186636, 127.38...   0.00      01\n",
      "17     18  (127.39132225165299 37.239974461348261, 127.39...   0.00      01\n",
      "18     19  (127.37330965773522 37.240746793504201, 127.37...   0.00      01\n",
      "19     20  (127.40139879984255 37.23966263508629, 127.403...   0.00      01\n",
      "20     21  (127.38681937618253 37.240173536666816, 127.38...   0.00      01\n",
      "21     22  (127.40587895280345 37.240063801407999, 127.40...   0.00      01\n",
      "22     23  (127.38907048620312 37.240069130050834, 127.39...   0.00      01\n",
      "23     24  (127.36880416625438 37.240902749482245, 127.37...   0.00      01\n",
      "     도로위험도  도로위험도지수      경도1     위도1      경도2     위도2\n",
      "0  26.8700   4.0000 127.4126 37.2408 127.4148 37.2410\n",
      "1   8.9300   3.0000 127.4190 37.2397 127.4209 37.2388\n",
      "2   6.1700   3.0000 127.4081 37.2403 127.4103 37.2406\n",
      "3   2.9100   1.0000 127.3801 37.2405 127.3823 37.2404\n",
      "4   0.3400   1.0000 127.3666 37.2410 127.3688 37.2409\n",
      "5   0.3400   1.0000 127.3711 37.2408 127.3733 37.2407\n",
      "6   0.3400   1.0000 127.3969 37.2398 127.3991 37.2397\n",
      "7   0.3400   1.0000 127.4148 37.2410 127.4170 37.2406\n",
      "8   0.2500   1.0000 127.3756 37.2407 127.3778 37.2406\n",
      "9   0.1700   1.0000 127.4170 37.2406 127.4190 37.2397\n",
      "10  0.0000   1.0000 127.3913 37.2400 127.3936 37.2399\n",
      "11  0.0000   1.0000 127.3891 37.2401 127.3913 37.2400\n",
      "12  0.0000   1.0000 127.4059 37.2401 127.4081 37.2403\n",
      "13  0.0000   1.0000 127.3868 37.2402 127.3891 37.2401\n",
      "14  0.0000   1.0000 127.4014 37.2397 127.4036 37.2398\n",
      "15  0.0000   1.0000 127.3733 37.2407 127.3756 37.2407\n",
      "16  0.0000   1.0000 127.3846 37.2403 127.3868 37.2402\n",
      "17  0.0000   1.0000 127.3778 37.2406 127.3801 37.2405\n",
      "18  0.0000   1.0000 127.3936 37.2399 127.3969 37.2398\n",
      "19  0.0000   1.0000 127.3991 37.2397 127.4014 37.2397\n",
      "20  0.0000   1.0000 127.4036 37.2398 127.4059 37.2401\n",
      "21  0.0000   1.0000 127.4103 37.2406 127.4126 37.2408\n",
      "22  0.0000   1.0000 127.3823 37.2404 127.3846 37.2403\n",
      "23  0.0000   1.0000 127.3688 37.2409 127.3711 37.2408\n"
     ]
    },
    {
     "name": "stderr",
     "output_type": "stream",
     "text": [
      "<ipython-input-55-83021dfe7f49>:19: FutureWarning: The default value of regex will change from True to False in a future version. In addition, single character regular expressions will*not* be treated as literal strings when regex=True.\n",
      "  df2_2[\"구간1\"] = df2_2[\"구간1\"].str.replace(\"(\",'')\n",
      "<ipython-input-55-83021dfe7f49>:20: FutureWarning: The default value of regex will change from True to False in a future version. In addition, single character regular expressions will*not* be treated as literal strings when regex=True.\n",
      "  df2_2[\"구간2\"] = df2_2[\"구간2\"].str.replace(\")\",'')\n"
     ]
    },
    {
     "data": {
      "text/plain": [
       "1.944166666666667"
      ]
     },
     "execution_count": 55,
     "metadata": {},
     "output_type": "execute_result"
    }
   ],
   "source": [
    "#1번\n",
    "import pandas as pd\n",
    "\n",
    "\n",
    "df2_1 = pd.DataFrame(df2['items'][\"item\"])\n",
    "df2_1 = df2_1.rename(columns = {'line_string' : \"구간 좌표\",\n",
    "                         'anals_value' : '도로위험도',\n",
    "                          'anals_grd' : \"도로위험도지수\"})\n",
    "print(df2_1)\n",
    "\n",
    "df2_2 = df2_1[\"구간 좌표\"].str.split(',',expand= True)\n",
    "df2_2 = df2_2.rename(columns = {0 : \"구간1\"\n",
    "                      , 1 : \"구간2\"})\n",
    "\n",
    "# print(df_2.dtypes)\n",
    "\n",
    "# df_2[\"구간1\"] = df_2[\"구간1\"].str.replace(pat=r'[^\\w]', repl=r'', regex=True)\n",
    "# df_2[\"구간2\"] = df_2[\"구간2\"].str.replace(pat=r'[^\\w]', repl=r'', regex=True)\n",
    "df2_2[\"구간1\"] = df2_2[\"구간1\"].str.replace(\"(\",'')\n",
    "df2_2[\"구간2\"] = df2_2[\"구간2\"].str.replace(\")\",'')\n",
    "pd.options.display.float_format = '{:.4f}'.format\n",
    "\n",
    "df2_3 = df2_2[\"구간1\"].str.split(\" \",expand=True)\n",
    "df2_4 = df2_2[\"구간2\"].str.split(\" \",expand=True)\n",
    "df2_3 = df2_3.rename(columns = {0 : \"구간1\"\n",
    "                      , 1 : \"구간2\"})\n",
    "\n",
    "df2_4 = df2_4.rename(columns = {1 : \"구간3\"\n",
    "                      , 2 : \"구간4\"})\n",
    "df2_4\n",
    "df2_5= pd.concat([df2_3,df2_4],axis=1)\n",
    "df2_5\n",
    "df2_5 = df2_5.drop([0],axis=1)\n",
    "df2_5\n",
    "# df2_5[\"구간1\"] = df2_5[\"구간1\"].astype(float)\n",
    "# df2_5[\"구간2\"] = df2_5[\"구간2\"].astype(float)\n",
    "# df2_5[\"구간3\"] = df2_5[\"구간3\"].astype(float)\n",
    "# df2_5[\"구간4\"] = df2_5[\"구간4\"].astype(float)\n",
    "# df2_5[\"구간1\"].round(4)\n",
    "# df2_5[\"구간2\"].round(4)\n",
    "# df2_5[\"구간3\"].round(4)\n",
    "# df2_5[\"구간4\"].round(4)\n",
    "\n",
    "\n",
    "df2_6 = pd.concat([df2_1,df2_5],axis=1)\n",
    "\n",
    "df2_6\n",
    "df2_6 = df2_6.drop([\"구간 좌표\"],axis=1)\n",
    "df2_6 = df2_6.rename(columns = {'구간1' : \"경도1\",\n",
    "                         '구간2' : '위도1',\n",
    "                          '구간3' : \"경도2\",\n",
    "                                '구간4' : \"위도2\"})\n",
    "\n",
    "df2_6[\"도로위험도지수\"] = df2_6[\"도로위험도지수\"].astype(float)\n",
    "df2_6[\"도로위험도\"] = df2_6[\"도로위험도\"].astype(float)\n",
    "df2_6 = df2_6.drop(\"index\",axis=1)\n",
    "df2_6[\"도로위험도\"].sort_values(ascending = False)\n",
    "df2_6 = df2_6.sort_values(by= \"도로위험도\", ascending = False)\n",
    "df2_7 = df2_6.reset_index()\n",
    "df2_7\n",
    "df2_7= df2_7.drop(\"index\", axis=1)\n",
    "print(df2_7)\n",
    "df2_7[\"도로위험도\"].mean()"
   ]
  },
  {
   "cell_type": "code",
   "execution_count": 54,
   "metadata": {},
   "outputs": [
    {
     "name": "stdout",
     "output_type": "stream",
     "text": [
      "     도로위험도  도로위험도지수      경도1     위도1      경도2     위도2\n",
      "0  26.8700   4.0000 127.4126 37.2408 127.4148 37.2410\n",
      "1   8.9300   3.0000 127.4190 37.2397 127.4209 37.2388\n",
      "2   6.1700   3.0000 127.4081 37.2403 127.4103 37.2406\n",
      "3   2.9100   1.0000 127.3801 37.2405 127.3823 37.2404\n",
      "4   0.3400   1.0000 127.3666 37.2410 127.3688 37.2409\n",
      "5   0.3400   1.0000 127.3711 37.2408 127.3733 37.2407\n",
      "6   0.3400   1.0000 127.3969 37.2398 127.3991 37.2397\n",
      "7   0.3400   1.0000 127.4148 37.2410 127.4170 37.2406\n",
      "8   0.2500   1.0000 127.3756 37.2407 127.3778 37.2406\n",
      "9   0.1700   1.0000 127.4170 37.2406 127.4190 37.2397\n",
      "10  0.0000   1.0000 127.3913 37.2400 127.3936 37.2399\n",
      "11  0.0000   1.0000 127.3891 37.2401 127.3913 37.2400\n",
      "12  0.0000   1.0000 127.4059 37.2401 127.4081 37.2403\n",
      "13  0.0000   1.0000 127.3868 37.2402 127.3891 37.2401\n",
      "14  0.0000   1.0000 127.4014 37.2397 127.4036 37.2398\n",
      "15  0.0000   1.0000 127.3733 37.2407 127.3756 37.2407\n",
      "16  0.0000   1.0000 127.3846 37.2403 127.3868 37.2402\n",
      "17  0.0000   1.0000 127.3778 37.2406 127.3801 37.2405\n",
      "18  0.0000   1.0000 127.3936 37.2399 127.3969 37.2398\n",
      "19  0.0000   1.0000 127.3991 37.2397 127.4014 37.2397\n",
      "20  0.0000   1.0000 127.4036 37.2398 127.4059 37.2401\n",
      "21  0.0000   1.0000 127.4103 37.2406 127.4126 37.2408\n",
      "22  0.0000   1.0000 127.3823 37.2404 127.3846 37.2403\n",
      "23  0.0000   1.0000 127.3688 37.2409 127.3711 37.2408\n"
     ]
    },
    {
     "name": "stderr",
     "output_type": "stream",
     "text": [
      "<ipython-input-54-6715cff4e694>:18: FutureWarning: The default value of regex will change from True to False in a future version. In addition, single character regular expressions will*not* be treated as literal strings when regex=True.\n",
      "  df3_2[\"구간1\"] = df3_2[\"구간1\"].str.replace(\"(\",'')\n",
      "<ipython-input-54-6715cff4e694>:19: FutureWarning: The default value of regex will change from True to False in a future version. In addition, single character regular expressions will*not* be treated as literal strings when regex=True.\n",
      "  df3_2[\"구간2\"] = df3_2[\"구간2\"].str.replace(\")\",'')\n"
     ]
    },
    {
     "data": {
      "text/plain": [
       "1.944166666666667"
      ]
     },
     "execution_count": 54,
     "metadata": {},
     "output_type": "execute_result"
    }
   ],
   "source": [
    "#1번\n",
    "import pandas as pd\n",
    "\n",
    "\n",
    "df3_1 = pd.DataFrame(df3['items'][\"item\"])\n",
    "df3_1 = df3_1.rename(columns = {'line_string' : \"구간 좌표\",\n",
    "                         'anals_value' : '도로위험도',\n",
    "                          'anals_grd' : \"도로위험도지수\"})\n",
    "\n",
    "df3_2 = df3_1[\"구간 좌표\"].str.split(',',expand= True)\n",
    "df3_2 = df3_2.rename(columns = {0 : \"구간1\"\n",
    "                      , 1 : \"구간2\"})\n",
    "\n",
    "# print(df_2.dtypes)\n",
    "\n",
    "# df_2[\"구간1\"] = df_2[\"구간1\"].str.replace(pat=r'[^\\w]', repl=r'', regex=True)\n",
    "# df_2[\"구간2\"] = df_2[\"구간2\"].str.replace(pat=r'[^\\w]', repl=r'', regex=True)\n",
    "df3_2[\"구간1\"] = df3_2[\"구간1\"].str.replace(\"(\",'')\n",
    "df3_2[\"구간2\"] = df3_2[\"구간2\"].str.replace(\")\",'')\n",
    "pd.options.display.float_format = '{:.4f}'.format\n",
    "\n",
    "df3_3 = df3_2[\"구간1\"].str.split(\" \",expand=True)\n",
    "df3_4 = df3_2[\"구간2\"].str.split(\" \",expand=True)\n",
    "df3_3 = df3_3.rename(columns = {0 : \"구간1\"\n",
    "                      , 1 : \"구간2\"})\n",
    "\n",
    "df3_4 = df3_4.rename(columns = {1 : \"구간3\"\n",
    "                      , 2 : \"구간4\"})\n",
    "df3_4\n",
    "df3_5= pd.concat([df3_3,df3_4],axis=1)\n",
    "df3_5 = df3_5.drop([0],axis=1)\n",
    "df3_5\n",
    "df3_5[\"구간1\"] = df3_5[\"구간1\"].astype(float)\n",
    "df3_5[\"구간2\"] = df3_5[\"구간2\"].astype(float)\n",
    "df3_5[\"구간3\"] = df3_5[\"구간3\"].astype(float)\n",
    "df3_5[\"구간4\"] = df3_5[\"구간4\"].astype(float)\n",
    "df3_5[\"구간1\"].round(4)\n",
    "df3_5[\"구간2\"].round(4)\n",
    "df3_5[\"구간3\"].round(4)\n",
    "df3_5[\"구간4\"].round(4)\n",
    "\n",
    "\n",
    "df3_6 = pd.concat([df2_1,df2_5],axis=1)\n",
    "\n",
    "df3_6\n",
    "df3_6 = df3_6.drop([\"구간 좌표\"],axis=1)\n",
    "df3_6 = df3_6.rename(columns = {'구간1' : \"경도1\",\n",
    "                         '구간2' : '위도1',\n",
    "                          '구간3' : \"경도2\",\n",
    "                                '구간4' : \"위도2\"})\n",
    "\n",
    "df3_6[\"도로위험도지수\"] = df3_6[\"도로위험도지수\"].astype(float)\n",
    "df3_6[\"도로위험도\"] = df3_6[\"도로위험도\"].astype(float)\n",
    "df3_6 = df3_6.drop(\"index\",axis=1)\n",
    "df3_6[\"도로위험도\"].sort_values(ascending = False)\n",
    "df3_6 = df3_6.sort_values(by= \"도로위험도\", ascending = False)\n",
    "df3_7 = df3_6.reset_index()\n",
    "df3_7\n",
    "df3_7= df3_7.drop(\"index\", axis=1)\n",
    "print(df3_7)\n",
    "df3_7[\"도로위험도\"].mean()"
   ]
  },
  {
   "cell_type": "code",
   "execution_count": null,
   "metadata": {},
   "outputs": [],
   "source": [
    "import folium\n",
    "from folium import Marker, Icon\n",
    "import csv, time"
   ]
  },
  {
   "cell_type": "code",
   "execution_count": null,
   "metadata": {},
   "outputs": [],
   "source": [
    "center = [37.566696 ,\t126.977942]    # 서울시청 위/경도 \n",
    "m=folium.Map(location=center, zoom_start=10) \n",
    "m"
   ]
  },
  {
   "cell_type": "code",
   "execution_count": null,
   "metadata": {},
   "outputs": [],
   "source": [
    "loc = df_6[['위도1','경도1']].values[:len(df_6)].tolist()\n",
    "\n",
    "\n",
    "for i in range(len(df_6)):  \n",
    "\n",
    "    folium.Circle(location=loc[i],radius=5,color='blue',fill = True).add_to(m)\n",
    "\n",
    "folium.Marker(location = loc[0],tooltip = df_7['도로위험도'][0],icon = folium.Icon(color = 'blue',icon = 'info-sign')).add_to(m)\n",
    "m\n"
   ]
  },
  {
   "cell_type": "code",
   "execution_count": null,
   "metadata": {},
   "outputs": [],
   "source": []
  }
 ],
 "metadata": {
  "hide_input": false,
  "kernelspec": {
   "display_name": "Python 3",
   "language": "python",
   "name": "python3"
  },
  "language_info": {
   "codemirror_mode": {
    "name": "ipython",
    "version": 3
   },
   "file_extension": ".py",
   "mimetype": "text/x-python",
   "name": "python",
   "nbconvert_exporter": "python",
   "pygments_lexer": "ipython3",
   "version": "3.7.3"
  },
  "toc": {
   "base_numbering": 1,
   "nav_menu": {},
   "number_sections": true,
   "sideBar": true,
   "skip_h1_title": false,
   "title_cell": "Table of Contents",
   "title_sidebar": "Contents",
   "toc_cell": false,
   "toc_position": {},
   "toc_section_display": true,
   "toc_window_display": false
  },
  "varInspector": {
   "cols": {
    "lenName": 16,
    "lenType": 16,
    "lenVar": 40
   },
   "kernels_config": {
    "python": {
     "delete_cmd_postfix": "",
     "delete_cmd_prefix": "del ",
     "library": "var_list.py",
     "varRefreshCmd": "print(var_dic_list())"
    },
    "r": {
     "delete_cmd_postfix": ") ",
     "delete_cmd_prefix": "rm(",
     "library": "var_list.r",
     "varRefreshCmd": "cat(var_dic_list()) "
    }
   },
   "types_to_exclude": [
    "module",
    "function",
    "builtin_function_or_method",
    "instance",
    "_Feature"
   ],
   "window_display": false
  }
 },
 "nbformat": 4,
 "nbformat_minor": 5
}
